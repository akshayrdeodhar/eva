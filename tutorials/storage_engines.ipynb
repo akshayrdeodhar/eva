{
 "cells": [
  {
   "cell_type": "markdown",
   "id": "d861cb4a",
   "metadata": {},
   "source": [
    "## Import classes, libraries"
   ]
  },
  {
   "cell_type": "code",
   "execution_count": 1,
   "id": "1bedec64",
   "metadata": {},
   "outputs": [],
   "source": [
    "%load_ext autoreload"
   ]
  },
  {
   "cell_type": "code",
   "execution_count": 2,
   "id": "b11a3324",
   "metadata": {},
   "outputs": [],
   "source": [
    "%autoreload 2\n",
    "import sys\n",
    "sys.path.insert(0,'..')\n",
    "from src.server.db_api import connect\n",
    "from src.storage.petastorm_storage_engine import PetastormStorageEngine\n",
    "from src.readers.opencv_reader import OpenCVReader\n",
    "from src.catalog.models.df_metadata import DataFrameMetadata\n",
    "from src.storage.abstract_storage_engine import AbstractStorageEngine\n",
    "from src.storage.ffmpeg_storage_engine import FFmpegStorageEngine\n",
    "from src.catalog.models.df_column import DataFrameColumn\n",
    "from src.models.storage.batch import Batch\n",
    "from src.catalog.column_type import ColumnType, NdArrayType\n",
    "from src.readers.abstract_reader import AbstractReader\n",
    "from src.readers.petastorm_reader import PetastormReader\n",
    "from typing import Iterator\n",
    "import os\n",
    "import ffmpeg\n",
    "import numpy as np\n",
    "import matplotlib.pyplot as plt\n",
    "import pandas as pd\n",
    "import time"
   ]
  },
  {
   "cell_type": "code",
   "execution_count": 2,
   "id": "86a4d207",
   "metadata": {},
   "outputs": [],
   "source": [
    "one_min_video = \"/home/akshay/Downloads/pallof.mp4\"\n",
    "thirty_sec_video = \"/home/akshay/Downloads/30secseinfeld.mkv\""
   ]
  },
  {
   "cell_type": "code",
   "execution_count": 18,
   "id": "e33b09b4",
   "metadata": {},
   "outputs": [
    {
     "name": "stdout",
     "output_type": "stream",
     "text": [
      "Closed\n",
      "CPU times: user 11.5 s, sys: 1.69 s, total: 13.2 s\n",
      "Wall time: 48.2 s\n"
     ]
    }
   ],
   "source": [
    "%%time\n",
    "opencv_reader = OpenCVReader(one_min_video, 30000000)\n",
    "ffengine = FFmpegStorageEngine()\n",
    "seinfeldtable = DataFrameMetadata(\"oneminseinfeld\", \"seinfeldvideo\")\n",
    "seinfeldtable.resolution = (1280, 720)\n",
    "ffengine.create(seinfeldtable)\n",
    "ffengine.open_write(seinfeldtable)\n",
    "for batch in opencv_reader.read():\n",
    "    ffengine.write(seinfeldtable, batch)\n",
    "ffengine.close_write(seinfeldtable)"
   ]
  },
  {
   "cell_type": "code",
   "execution_count": 3,
   "id": "9c357ecd",
   "metadata": {},
   "outputs": [],
   "source": [
    "ffengine = FFmpegStorageEngine()"
   ]
  },
  {
   "cell_type": "code",
   "execution_count": 4,
   "id": "51029ee8",
   "metadata": {},
   "outputs": [],
   "source": [
    "def sequence(start, end, step):\n",
    "    seinfeldtable = DataFrameMetadata(\"oneminseinfeld\", \"seinfeldvideo\")\n",
    "    seinfeldtable.resolution = (1280, 720)\n",
    "    \n",
    "    results = []\n",
    "    \n",
    "    for i in range(start, end, step):\n",
    "        start_time = time.time()\n",
    "        \n",
    "        ffengine.open_read(seinfeldtable, (\"between\", (0, i)))\n",
    "        for images in ffengine.read(seinfeldtable):\n",
    "            image_arrays = images.frames['data'].values\n",
    "        ffengine.close_read(seinfeldtable)\n",
    "        \n",
    "        end_time = time.time()\n",
    "        \n",
    "        results.append(end_time - start_time)\n",
    "    \n",
    "    return results"
   ]
  },
  {
   "cell_type": "code",
   "execution_count": 9,
   "id": "93eca8fd",
   "metadata": {},
   "outputs": [
    {
     "name": "stdout",
     "output_type": "stream",
     "text": [
      "[3.4130364656448364, 3.7089719772338867, 4.1887887716293335, 4.5869057178497314, 5.232674717903137, 6.480870604515076, 5.946494221687317, 6.432538986206055, 6.894888758659363, 6.873034715652466, 7.413555383682251, 7.740192532539368, 8.630574822425842, 8.65120542049408, 9.326254963874817, 9.777140855789185, 9.880618214607239, 9.979219794273376, 10.747848510742188, 11.049229264259338]\n"
     ]
    }
   ],
   "source": [
    "start, end, step = 0, 1000, 50\n",
    "\n",
    "n = len(range(start, end, step))\n",
    "\n",
    "result_sum = [0] * n\n",
    "\n",
    "warmup_rounds = 1\n",
    "experiment_rounds = 2\n",
    "\n",
    "ffengine.process = None\n",
    "\n",
    "for i in range(warmup_rounds):\n",
    "    sequence(start, end, step)\n",
    "\n",
    "for i in range(experiment_rounds):\n",
    "    test_i_results = sequence(start, end, step)\n",
    "    result_sum = [result_sum[i] + test_i_results[i] for i in range(n)]\n",
    "\n",
    "average_result = [x / experiment_rounds for x in result_sum]\n",
    "\n",
    "print(average_result)"
   ]
  },
  {
   "cell_type": "code",
   "execution_count": 53,
   "id": "0ea93f9f",
   "metadata": {},
   "outputs": [],
   "source": [
    "n_frames = int(ffmpeg.probe(\"ffmpeg_data/seinfeldvideo.mp4\")['streams'][0]['nb_frames'])"
   ]
  },
  {
   "cell_type": "code",
   "execution_count": null,
   "id": "3b12ca50",
   "metadata": {},
   "outputs": [],
   "source": []
  }
 ],
 "metadata": {
  "kernelspec": {
   "display_name": "Python 3 (ipykernel)",
   "language": "python",
   "name": "python3"
  },
  "language_info": {
   "codemirror_mode": {
    "name": "ipython",
    "version": 3
   },
   "file_extension": ".py",
   "mimetype": "text/x-python",
   "name": "python",
   "nbconvert_exporter": "python",
   "pygments_lexer": "ipython3",
   "version": "3.9.5"
  }
 },
 "nbformat": 4,
 "nbformat_minor": 5
}
