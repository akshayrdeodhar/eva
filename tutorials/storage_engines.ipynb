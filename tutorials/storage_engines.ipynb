{
 "cells": [
  {
   "cell_type": "markdown",
   "id": "d861cb4a",
   "metadata": {},
   "source": [
    "##### Import classes, libraries"
   ]
  },
  {
   "cell_type": "code",
   "execution_count": 53,
   "id": "1bedec64",
   "metadata": {},
   "outputs": [
    {
     "name": "stdout",
     "output_type": "stream",
     "text": [
      "The autoreload extension is already loaded. To reload it, use:\n",
      "  %reload_ext autoreload\n"
     ]
    }
   ],
   "source": [
    "%load_ext autoreload"
   ]
  },
  {
   "cell_type": "code",
   "execution_count": 54,
   "id": "b11a3324",
   "metadata": {},
   "outputs": [],
   "source": [
    "%autoreload 2\n",
    "import sys\n",
    "sys.path.insert(0,'..')\n",
    "from src.server.db_api import connect\n",
    "from src.storage.petastorm_storage_engine import PetastormStorageEngine\n",
    "from src.readers.opencv_reader import OpenCVReader\n",
    "from src.catalog.models.df_metadata import DataFrameMetadata\n",
    "from src.storage.abstract_storage_engine import AbstractStorageEngine\n",
    "from src.storage.ffmpeg_storage_engine import FFmpegStorageEngine\n",
    "from src.catalog.models.df_column import DataFrameColumn\n",
    "from src.models.storage.batch import Batch\n",
    "from src.catalog.column_type import ColumnType, NdArrayType\n",
    "from src.readers.abstract_reader import AbstractReader\n",
    "from src.readers.petastorm_reader import PetastormReader\n",
    "from typing import Iterator\n",
    "import os\n",
    "import ffmpeg\n",
    "import numpy as np\n",
    "import matplotlib.pyplot as plt\n",
    "import pandas as pd\n",
    "import time"
   ]
  },
  {
   "cell_type": "code",
   "execution_count": 3,
   "id": "86a4d207",
   "metadata": {},
   "outputs": [],
   "source": [
    "one_min_video = \"/home/akshay/Downloads/pallof.mp4\"\n",
    "thirty_sec_video = \"/home/akshay/Downloads/30secseinfeld.mkv\""
   ]
  },
  {
   "cell_type": "code",
   "execution_count": 8,
   "id": "e33b09b4",
   "metadata": {},
   "outputs": [
    {
     "name": "stdout",
     "output_type": "stream",
     "text": [
      "CPU times: user 13 µs, sys: 4 µs, total: 17 µs\n",
      "Wall time: 32.4 µs\n"
     ]
    }
   ],
   "source": [
    "%%time\n",
    "def writevideo(videoname, tablename, video_location, resolution):\n",
    "    start = time.time()\n",
    "    opencv_reader = OpenCVReader(video_location, 30000000)\n",
    "    ffengine = FFmpegStorageEngine()\n",
    "    table = DataFrameMetadata(tablename, videoname)\n",
    "    table.resolution = resolution\n",
    "    ffengine.create(table)\n",
    "    ffengine.open_write(table)\n",
    "    for batch in opencv_reader.read():\n",
    "        ffengine.write(table, batch)\n",
    "    ffengine.close_write(tablename)\n",
    "    end = time.time()\n",
    "    \n",
    "    return end - start"
   ]
  },
  {
   "cell_type": "code",
   "execution_count": 15,
   "id": "6173e121",
   "metadata": {},
   "outputs": [],
   "source": [
    "video_intervals = [1, 2, 3, 4, 6, 8, 10, 12, 14, 16]\n",
    "video_locations = [\"/home/akshay/Downloads/evavideos/\" + str(x) + \".mp4\" for x in video_intervals]\n",
    "video_names = [str(x) for x in video_intervals]\n",
    "table_names = [\"table_\" + str(x) for x in video_intervals]"
   ]
  },
  {
   "cell_type": "code",
   "execution_count": 16,
   "id": "70209c85",
   "metadata": {},
   "outputs": [
    {
     "data": {
      "text/plain": [
       "9.682677984237671"
      ]
     },
     "execution_count": 16,
     "metadata": {},
     "output_type": "execute_result"
    }
   ],
   "source": [
    "writevideo(\"2.mp4\", \"table_2\", video_locations[1], (1920, 1080))"
   ]
  },
  {
   "cell_type": "code",
   "execution_count": 17,
   "id": "c8639c42",
   "metadata": {},
   "outputs": [
    {
     "name": "stdout",
     "output_type": "stream",
     "text": [
      "1 /home/akshay/Downloads/evavideos/1.mp4 1 table_1\n",
      "2 /home/akshay/Downloads/evavideos/2.mp4 2 table_2\n",
      "3 /home/akshay/Downloads/evavideos/3.mp4 3 table_3\n",
      "4 /home/akshay/Downloads/evavideos/4.mp4 4 table_4\n",
      "6 /home/akshay/Downloads/evavideos/6.mp4 6 table_6\n",
      "8 /home/akshay/Downloads/evavideos/8.mp4 8 table_8\n",
      "10 /home/akshay/Downloads/evavideos/10.mp4 10 table_10\n",
      "12 /home/akshay/Downloads/evavideos/12.mp4 12 table_12\n",
      "14 /home/akshay/Downloads/evavideos/14.mp4 14 table_14\n",
      "16 /home/akshay/Downloads/evavideos/16.mp4 16 table_16\n"
     ]
    }
   ],
   "source": [
    "write_times = []\n",
    "for interval, location, name, table_name in list(zip(video_intervals, video_locations, video_names, table_names)):\n",
    "    print(interval, location, name, table_name)\n",
    "    write_times.append(writevideo(name, table_name, location, (1920, 1080)))"
   ]
  },
  {
   "cell_type": "code",
   "execution_count": 20,
   "id": "b8515cbe",
   "metadata": {},
   "outputs": [
    {
     "name": "stdout",
     "output_type": "stream",
     "text": [
      "1 5.300134897232056\n",
      "2 7.122283220291138\n",
      "3 9.79416823387146\n",
      "4 15.646122932434082\n",
      "6 21.651527404785156\n",
      "8 27.97468852996826\n",
      "10 31.666693449020386\n",
      "12 41.123889446258545\n",
      "14 48.69524073600769\n",
      "16 64.28311681747437\n"
     ]
    }
   ],
   "source": [
    "for time, write_time in zip(video_intervals, write_times):\n",
    "    print(f\"{time} {write_time}\")"
   ]
  },
  {
   "cell_type": "code",
   "execution_count": 90,
   "id": "9c357ecd",
   "metadata": {},
   "outputs": [],
   "source": [
    "ffengine = FFmpegStorageEngine()"
   ]
  },
  {
   "cell_type": "markdown",
   "id": "997785c8",
   "metadata": {},
   "source": [
    "## Stress Test, Consecutive Sequence"
   ]
  },
  {
   "cell_type": "code",
   "execution_count": 30,
   "id": "51029ee8",
   "metadata": {},
   "outputs": [],
   "source": [
    "def sequence(start, end, step, table):\n",
    "    \n",
    "    results = []\n",
    "    \n",
    "    for i in range(start, end, step):\n",
    "        start_time = time.time()\n",
    "        \n",
    "        ffengine.open_read(table, (\"between\", (0, i)))\n",
    "        for images in ffengine.read(table):\n",
    "            image_arrays = images.frames['data'].values\n",
    "        ffengine.close_read(table)\n",
    "        \n",
    "        end_time = time.time()\n",
    "        \n",
    "        results.append(end_time - start_time)\n",
    "    \n",
    "    return results"
   ]
  },
  {
   "cell_type": "code",
   "execution_count": 31,
   "id": "93eca8fd",
   "metadata": {},
   "outputs": [],
   "source": [
    "start, end, step = 0, 1000, 50\n",
    "\n",
    "def do_test(start, end, step, testmethod, warmup_rounds, experiment_rounds, table):\n",
    "    n = len(range(start, end, step))\n",
    "\n",
    "    result_sum = [0] * n\n",
    "\n",
    "    ffengine.process = None\n",
    "\n",
    "    for i in range(warmup_rounds):\n",
    "        testmethod(start, end, step, table)\n",
    "\n",
    "    for i in range(experiment_rounds):\n",
    "        test_i_results = testmethod(start, end, step, table)\n",
    "        result_sum = [result_sum[i] + test_i_results[i] for i in range(n)]\n",
    "\n",
    "    average_result = [x / experiment_rounds for x in result_sum]\n",
    "\n",
    "    return average_result"
   ]
  },
  {
   "cell_type": "code",
   "execution_count": 34,
   "id": "8c2a860e",
   "metadata": {},
   "outputs": [
    {
     "name": "stdout",
     "output_type": "stream",
     "text": [
      "['ffmpeg', '-i', 'ffmpeg_data/16.mp4', '-filter_complex', '[0]select=between(n\\\\,0\\\\,0)[s0]', '-map', '[s0]', '-f', 'rawvideo', '-pix_fmt', 'rgb24', '-s', '1920x1080', '-vsync', '0', 'pipe:']\n",
      "['ffmpeg', '-i', 'ffmpeg_data/16.mp4', '-filter_complex', '[0]select=between(n\\\\,0\\\\,50)[s0]', '-map', '[s0]', '-f', 'rawvideo', '-pix_fmt', 'rgb24', '-s', '1920x1080', '-vsync', '0', 'pipe:']\n",
      "['ffmpeg', '-i', 'ffmpeg_data/16.mp4', '-filter_complex', '[0]select=between(n\\\\,0\\\\,100)[s0]', '-map', '[s0]', '-f', 'rawvideo', '-pix_fmt', 'rgb24', '-s', '1920x1080', '-vsync', '0', 'pipe:']\n",
      "['ffmpeg', '-i', 'ffmpeg_data/16.mp4', '-filter_complex', '[0]select=between(n\\\\,0\\\\,150)[s0]', '-map', '[s0]', '-f', 'rawvideo', '-pix_fmt', 'rgb24', '-s', '1920x1080', '-vsync', '0', 'pipe:']\n",
      "['ffmpeg', '-i', 'ffmpeg_data/16.mp4', '-filter_complex', '[0]select=between(n\\\\,0\\\\,200)[s0]', '-map', '[s0]', '-f', 'rawvideo', '-pix_fmt', 'rgb24', '-s', '1920x1080', '-vsync', '0', 'pipe:']\n",
      "['ffmpeg', '-i', 'ffmpeg_data/16.mp4', '-filter_complex', '[0]select=between(n\\\\,0\\\\,250)[s0]', '-map', '[s0]', '-f', 'rawvideo', '-pix_fmt', 'rgb24', '-s', '1920x1080', '-vsync', '0', 'pipe:']\n",
      "['ffmpeg', '-i', 'ffmpeg_data/16.mp4', '-filter_complex', '[0]select=between(n\\\\,0\\\\,300)[s0]', '-map', '[s0]', '-f', 'rawvideo', '-pix_fmt', 'rgb24', '-s', '1920x1080', '-vsync', '0', 'pipe:']\n",
      "['ffmpeg', '-i', 'ffmpeg_data/16.mp4', '-filter_complex', '[0]select=between(n\\\\,0\\\\,350)[s0]', '-map', '[s0]', '-f', 'rawvideo', '-pix_fmt', 'rgb24', '-s', '1920x1080', '-vsync', '0', 'pipe:']\n",
      "['ffmpeg', '-i', 'ffmpeg_data/16.mp4', '-filter_complex', '[0]select=between(n\\\\,0\\\\,400)[s0]', '-map', '[s0]', '-f', 'rawvideo', '-pix_fmt', 'rgb24', '-s', '1920x1080', '-vsync', '0', 'pipe:']\n",
      "['ffmpeg', '-i', 'ffmpeg_data/16.mp4', '-filter_complex', '[0]select=between(n\\\\,0\\\\,450)[s0]', '-map', '[s0]', '-f', 'rawvideo', '-pix_fmt', 'rgb24', '-s', '1920x1080', '-vsync', '0', 'pipe:']\n",
      "['ffmpeg', '-i', 'ffmpeg_data/16.mp4', '-filter_complex', '[0]select=between(n\\\\,0\\\\,0)[s0]', '-map', '[s0]', '-f', 'rawvideo', '-pix_fmt', 'rgb24', '-s', '1920x1080', '-vsync', '0', 'pipe:']\n",
      "['ffmpeg', '-i', 'ffmpeg_data/16.mp4', '-filter_complex', '[0]select=between(n\\\\,0\\\\,50)[s0]', '-map', '[s0]', '-f', 'rawvideo', '-pix_fmt', 'rgb24', '-s', '1920x1080', '-vsync', '0', 'pipe:']\n",
      "['ffmpeg', '-i', 'ffmpeg_data/16.mp4', '-filter_complex', '[0]select=between(n\\\\,0\\\\,100)[s0]', '-map', '[s0]', '-f', 'rawvideo', '-pix_fmt', 'rgb24', '-s', '1920x1080', '-vsync', '0', 'pipe:']\n",
      "['ffmpeg', '-i', 'ffmpeg_data/16.mp4', '-filter_complex', '[0]select=between(n\\\\,0\\\\,150)[s0]', '-map', '[s0]', '-f', 'rawvideo', '-pix_fmt', 'rgb24', '-s', '1920x1080', '-vsync', '0', 'pipe:']\n",
      "['ffmpeg', '-i', 'ffmpeg_data/16.mp4', '-filter_complex', '[0]select=between(n\\\\,0\\\\,200)[s0]', '-map', '[s0]', '-f', 'rawvideo', '-pix_fmt', 'rgb24', '-s', '1920x1080', '-vsync', '0', 'pipe:']\n",
      "['ffmpeg', '-i', 'ffmpeg_data/16.mp4', '-filter_complex', '[0]select=between(n\\\\,0\\\\,250)[s0]', '-map', '[s0]', '-f', 'rawvideo', '-pix_fmt', 'rgb24', '-s', '1920x1080', '-vsync', '0', 'pipe:']\n",
      "['ffmpeg', '-i', 'ffmpeg_data/16.mp4', '-filter_complex', '[0]select=between(n\\\\,0\\\\,300)[s0]', '-map', '[s0]', '-f', 'rawvideo', '-pix_fmt', 'rgb24', '-s', '1920x1080', '-vsync', '0', 'pipe:']\n",
      "['ffmpeg', '-i', 'ffmpeg_data/16.mp4', '-filter_complex', '[0]select=between(n\\\\,0\\\\,350)[s0]', '-map', '[s0]', '-f', 'rawvideo', '-pix_fmt', 'rgb24', '-s', '1920x1080', '-vsync', '0', 'pipe:']\n",
      "['ffmpeg', '-i', 'ffmpeg_data/16.mp4', '-filter_complex', '[0]select=between(n\\\\,0\\\\,400)[s0]', '-map', '[s0]', '-f', 'rawvideo', '-pix_fmt', 'rgb24', '-s', '1920x1080', '-vsync', '0', 'pipe:']\n",
      "['ffmpeg', '-i', 'ffmpeg_data/16.mp4', '-filter_complex', '[0]select=between(n\\\\,0\\\\,450)[s0]', '-map', '[s0]', '-f', 'rawvideo', '-pix_fmt', 'rgb24', '-s', '1920x1080', '-vsync', '0', 'pipe:']\n",
      "['ffmpeg', '-i', 'ffmpeg_data/16.mp4', '-filter_complex', '[0]select=between(n\\\\,0\\\\,0)[s0]', '-map', '[s0]', '-f', 'rawvideo', '-pix_fmt', 'rgb24', '-s', '1920x1080', '-vsync', '0', 'pipe:']\n",
      "['ffmpeg', '-i', 'ffmpeg_data/16.mp4', '-filter_complex', '[0]select=between(n\\\\,0\\\\,50)[s0]', '-map', '[s0]', '-f', 'rawvideo', '-pix_fmt', 'rgb24', '-s', '1920x1080', '-vsync', '0', 'pipe:']\n",
      "['ffmpeg', '-i', 'ffmpeg_data/16.mp4', '-filter_complex', '[0]select=between(n\\\\,0\\\\,100)[s0]', '-map', '[s0]', '-f', 'rawvideo', '-pix_fmt', 'rgb24', '-s', '1920x1080', '-vsync', '0', 'pipe:']\n",
      "['ffmpeg', '-i', 'ffmpeg_data/16.mp4', '-filter_complex', '[0]select=between(n\\\\,0\\\\,150)[s0]', '-map', '[s0]', '-f', 'rawvideo', '-pix_fmt', 'rgb24', '-s', '1920x1080', '-vsync', '0', 'pipe:']\n",
      "['ffmpeg', '-i', 'ffmpeg_data/16.mp4', '-filter_complex', '[0]select=between(n\\\\,0\\\\,200)[s0]', '-map', '[s0]', '-f', 'rawvideo', '-pix_fmt', 'rgb24', '-s', '1920x1080', '-vsync', '0', 'pipe:']\n",
      "['ffmpeg', '-i', 'ffmpeg_data/16.mp4', '-filter_complex', '[0]select=between(n\\\\,0\\\\,250)[s0]', '-map', '[s0]', '-f', 'rawvideo', '-pix_fmt', 'rgb24', '-s', '1920x1080', '-vsync', '0', 'pipe:']\n",
      "['ffmpeg', '-i', 'ffmpeg_data/16.mp4', '-filter_complex', '[0]select=between(n\\\\,0\\\\,300)[s0]', '-map', '[s0]', '-f', 'rawvideo', '-pix_fmt', 'rgb24', '-s', '1920x1080', '-vsync', '0', 'pipe:']\n",
      "['ffmpeg', '-i', 'ffmpeg_data/16.mp4', '-filter_complex', '[0]select=between(n\\\\,0\\\\,350)[s0]', '-map', '[s0]', '-f', 'rawvideo', '-pix_fmt', 'rgb24', '-s', '1920x1080', '-vsync', '0', 'pipe:']\n",
      "['ffmpeg', '-i', 'ffmpeg_data/16.mp4', '-filter_complex', '[0]select=between(n\\\\,0\\\\,400)[s0]', '-map', '[s0]', '-f', 'rawvideo', '-pix_fmt', 'rgb24', '-s', '1920x1080', '-vsync', '0', 'pipe:']\n",
      "['ffmpeg', '-i', 'ffmpeg_data/16.mp4', '-filter_complex', '[0]select=between(n\\\\,0\\\\,450)[s0]', '-map', '[s0]', '-f', 'rawvideo', '-pix_fmt', 'rgb24', '-s', '1920x1080', '-vsync', '0', 'pipe:']\n",
      "[4.481938481330872, 5.480599880218506, 6.383861780166626, 7.387832999229431, 8.422945618629456, 9.34721291065216, 11.187633275985718, 11.349470496177673, 12.35720431804657, 13.424412488937378]\n"
     ]
    }
   ],
   "source": [
    "table = DataFrameMetadata(\"table_16\", \"16\")\n",
    "table.resolution = (1920, 1080)\n",
    "results = do_test(0, 500, 50, sequence, 1, 2, table)\n",
    "print(results)"
   ]
  },
  {
   "cell_type": "code",
   "execution_count": 35,
   "id": "1c14c9d2",
   "metadata": {},
   "outputs": [
    {
     "name": "stdout",
     "output_type": "stream",
     "text": [
      "0 4.481938481330872\n",
      "50 5.480599880218506\n",
      "100 6.383861780166626\n",
      "150 7.387832999229431\n",
      "200 8.422945618629456\n",
      "250 9.34721291065216\n",
      "300 11.187633275985718\n",
      "350 11.349470496177673\n",
      "400 12.35720431804657\n",
      "450 13.424412488937378\n"
     ]
    }
   ],
   "source": [
    "for frames, time in zip(range(0, 500, 50), results):\n",
    "    print(f\"{frames} {time}\")"
   ]
  },
  {
   "cell_type": "code",
   "execution_count": 12,
   "id": "0ea93f9f",
   "metadata": {},
   "outputs": [],
   "source": [
    "n_frames = int(ffmpeg.probe(ffengine._file_url(table))['streams'][0]['nb_frames'])"
   ]
  },
  {
   "cell_type": "markdown",
   "id": "5c1265f2",
   "metadata": {},
   "source": [
    "## Stress Test, Random N Frames, with replacement"
   ]
  },
  {
   "cell_type": "code",
   "execution_count": 56,
   "id": "de1d0d39",
   "metadata": {},
   "outputs": [],
   "source": [
    "import random\n",
    "import time\n"
   ]
  },
  {
   "cell_type": "code",
   "execution_count": 52,
   "id": "06cd338c",
   "metadata": {},
   "outputs": [
    {
     "name": "stdout",
     "output_type": "stream",
     "text": [
      "50 50\n",
      "100 100\n",
      "150 150\n",
      "200 200\n",
      "250 250\n",
      "300 300\n",
      "350 350\n",
      "400 400\n",
      "450 450\n",
      "50 50\n",
      "100 100\n",
      "150 150\n",
      "200 200\n",
      "250 250\n",
      "300 300\n",
      "350 350\n",
      "400 400\n",
      "450 450\n",
      "50 50\n",
      "100 100\n",
      "150 150\n",
      "200 200\n",
      "250 250\n",
      "300 300\n",
      "350 350\n",
      "400 400\n",
      "450 450\n",
      "0 7.712672829627991\n",
      "50 6.65441370010376\n",
      "100 7.360141396522522\n",
      "150 8.54240095615387\n",
      "200 9.016069054603577\n",
      "250 9.82991111278534\n",
      "300 11.331424593925476\n",
      "350 14.278607368469238\n",
      "400 13.918431639671326\n"
     ]
    }
   ],
   "source": [
    "random_results = do_test(50, 500, 50, random_n, 1, 2, table)\n",
    "for frames, rtime in zip(range(0, 500, 50), random_results):\n",
    "    print(f\"{frames} {rtime}\")"
   ]
  },
  {
   "cell_type": "code",
   "execution_count": 83,
   "id": "2d6b139a",
   "metadata": {},
   "outputs": [],
   "source": [
    "video_intervals = [1, 2, 3, 4, 6, 8, 10, 12, 14, 16]\n",
    "video_locations = [\"/home/akshay/Downloads/evavideos/\" + str(x) + \".mp4\" for x in video_intervals]\n",
    "video_names = [str(x) for x in video_intervals]\n",
    "table_names = [\"table_\" + str(x) for x in video_intervals]"
   ]
  },
  {
   "cell_type": "code",
   "execution_count": 96,
   "id": "e62e5c40",
   "metadata": {},
   "outputs": [],
   "source": [
    "def video_test_point_query():\n",
    "    results = []\n",
    "    number_of_frames = []\n",
    "    for video, table_name in zip(video_names, table_names):\n",
    "        table = DataFrameMetadata(table_name, video)\n",
    "        #print(ffengine._file_url(table))\n",
    "        n_frames = int(ffmpeg.probe(ffengine._file_url(table) + \".mp4\")['streams'][0]['nb_frames'])\n",
    "        print(n_frames)\n",
    "        frame = random.randrange(n_frames)\n",
    "        table.resolution = (1920, 1280)\n",
    "        start_time = time.time()\n",
    "        ffengine.open_read(table, (\"random\", [frame]))\n",
    "        for images in ffengine.read(table):\n",
    "            image_arrays = images.frames['data'].values\n",
    "        ffengine.close_read(table)\n",
    "        end_time = time.time()    \n",
    "        number_of_frames.append(n_frames)\n",
    "        results.append(end_time - start_time)\n",
    "    return number_of_frames, results"
   ]
  },
  {
   "cell_type": "code",
   "execution_count": 97,
   "id": "7c9ff52f",
   "metadata": {},
   "outputs": [
    {
     "name": "stdout",
     "output_type": "stream",
     "text": [
      "[0, 0, 0, 0, 0, 0, 0, 0, 0, 0]\n",
      "27\n",
      "60\n",
      "89\n",
      "142\n",
      "202\n",
      "266\n",
      "308\n",
      "371\n",
      "423\n",
      "500\n",
      "27\n",
      "60\n",
      "89\n",
      "142\n",
      "202\n",
      "266\n",
      "308\n",
      "371\n",
      "423\n",
      "500\n",
      "27\n",
      "60\n",
      "89\n",
      "142\n",
      "202\n",
      "266\n",
      "308\n",
      "371\n",
      "423\n",
      "500\n",
      "27\n",
      "60\n",
      "89\n",
      "142\n",
      "202\n",
      "266\n",
      "308\n",
      "371\n",
      "423\n",
      "500\n",
      "[0.4550052483876546, 0.7183191776275635, 0.941396951675415, 1.5469048817952473, 2.0835627714792886, 2.599161942799886, 2.9492828051249185, 3.4326114654541016, 3.898787260055542, 4.691850105921428]\n"
     ]
    }
   ],
   "source": [
    "sum_results = [0] * len(video_intervals)\n",
    "print(sum_results)\n",
    "frames, results_across_videos = video_test()\n",
    "for i in range(3):\n",
    "    _, results_i = video_test()\n",
    "    sum_results = [sum_results[i] + results_i[i] for i in range(len(video_intervals))]\n",
    "    \n",
    "avg_results = [x / 3 for x in sum_results]\n",
    "print(avg_results)"
   ]
  },
  {
   "cell_type": "code",
   "execution_count": 99,
   "id": "3aee7452",
   "metadata": {},
   "outputs": [
    {
     "name": "stdout",
     "output_type": "stream",
     "text": [
      "[(27, 0.6908631324768066), (60, 0.7625288963317871), (89, 0.9750816822052002), (142, 1.5520527362823486), (202, 2.125415325164795), (266, 2.568614959716797), (308, 2.91607403755188), (371, 3.6731321811676025), (423, 4.455996751785278), (500, 4.980330228805542)]\n"
     ]
    }
   ],
   "source": [
    "print(results_across_results)\n",
    "frame_counts = [x[0] for x in results_across_results]"
   ]
  },
  {
   "cell_type": "code",
   "execution_count": 100,
   "id": "e99dc46d",
   "metadata": {},
   "outputs": [
    {
     "name": "stdout",
     "output_type": "stream",
     "text": [
      "27,0.4550052483876546\n",
      "60,0.7183191776275635\n",
      "89,0.941396951675415\n",
      "142,1.5469048817952473\n",
      "202,2.0835627714792886\n",
      "266,2.599161942799886\n",
      "308,2.9492828051249185\n",
      "371,3.4326114654541016\n",
      "423,3.898787260055542\n",
      "500,4.691850105921428\n"
     ]
    }
   ],
   "source": [
    "for frames, avg_time in zip(frame_counts, avg_results):\n",
    "    print(f\"{frames},{avg_time}\")"
   ]
  },
  {
   "cell_type": "code",
   "execution_count": 103,
   "id": "df59d40f",
   "metadata": {},
   "outputs": [],
   "source": [
    "def video_test_range_query():\n",
    "    results = []\n",
    "    number_of_frames = []\n",
    "    for video, table_name in zip(video_names, table_names):\n",
    "        table = DataFrameMetadata(table_name, video)\n",
    "        #print(ffengine._file_url(table))\n",
    "        n_frames = int(ffmpeg.probe(ffengine._file_url(table) + \".mp4\")['streams'][0]['nb_frames'])\n",
    "        print(n_frames)\n",
    "        frame = random.randrange(n_frames)\n",
    "        table.resolution = (1920, 1280)\n",
    "        start_time = time.time()\n",
    "        ffengine.open_read(table, (\"between\", (frame, frame + 10)))\n",
    "        for images in ffengine.read(table):\n",
    "            image_arrays = images.frames['data'].values\n",
    "        ffengine.close_read(table)\n",
    "        end_time = time.time()    \n",
    "        number_of_frames.append(n_frames)\n",
    "        results.append(end_time - start_time)\n",
    "    return number_of_frames, results"
   ]
  },
  {
   "cell_type": "code",
   "execution_count": 104,
   "id": "1e499569",
   "metadata": {},
   "outputs": [
    {
     "name": "stdout",
     "output_type": "stream",
     "text": [
      "27\n",
      "60\n",
      "89\n",
      "142\n",
      "202\n",
      "266\n",
      "308\n",
      "371\n",
      "423\n",
      "500\n",
      "27\n",
      "60\n",
      "89\n",
      "142\n",
      "202\n",
      "266\n",
      "308\n",
      "371\n",
      "423\n",
      "500\n",
      "27\n",
      "60\n",
      "89\n",
      "142\n",
      "202\n",
      "266\n",
      "308\n",
      "371\n",
      "423\n",
      "500\n",
      "[0.4550052483876546, 0.7183191776275635, 0.941396951675415, 1.5469048817952473, 2.0835627714792886, 2.599161942799886, 2.9492828051249185, 3.4326114654541016, 3.898787260055542, 4.691850105921428]\n"
     ]
    }
   ],
   "source": [
    "sum_results_range = [0] * len(video_intervals)\n",
    "for i in range(3):\n",
    "    _, results_i = video_test_range_query()\n",
    "    sum_results_range = [sum_results_range[i] + results_i[i] for i in range(len(video_intervals))]\n",
    "    \n",
    "avg_results_range = [x / 3 for x in sum_results]\n",
    "print(avg_results_range)"
   ]
  },
  {
   "cell_type": "code",
   "execution_count": 106,
   "id": "1ceb4f61",
   "metadata": {},
   "outputs": [
    {
     "name": "stdout",
     "output_type": "stream",
     "text": [
      "27,1.040590524673462\n",
      "60,1.2731739679972331\n",
      "89,1.4530449708302815\n",
      "142,2.000558296839396\n",
      "202,2.712224324544271\n",
      "266,3.692084868748983\n",
      "308,3.9504953225453696\n",
      "371,4.230886061986287\n",
      "423,4.654622395833333\n",
      "500,5.613044500350952\n"
     ]
    }
   ],
   "source": [
    "avg_results_range = [x / 3 for x in sum_results_range]\n",
    "\n",
    "for frames, avg_time in zip(frame_counts, avg_results_range):\n",
    "    print(f\"{frames},{avg_time}\")"
   ]
  },
  {
   "cell_type": "code",
   "execution_count": null,
   "id": "b26e1a87",
   "metadata": {},
   "outputs": [],
   "source": []
  }
 ],
 "metadata": {
  "kernelspec": {
   "display_name": "Python 3 (ipykernel)",
   "language": "python",
   "name": "python3"
  },
  "language_info": {
   "codemirror_mode": {
    "name": "ipython",
    "version": 3
   },
   "file_extension": ".py",
   "mimetype": "text/x-python",
   "name": "python",
   "nbconvert_exporter": "python",
   "pygments_lexer": "ipython3",
   "version": "3.9.5"
  }
 },
 "nbformat": 4,
 "nbformat_minor": 5
}
