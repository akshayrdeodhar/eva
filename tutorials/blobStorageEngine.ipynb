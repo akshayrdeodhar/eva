{
 "cells": [
  {
   "cell_type": "code",
   "execution_count": 1,
   "id": "2801e348",
   "metadata": {},
   "outputs": [],
   "source": [
    "import os\n",
    "import cv2\n",
    "import numpy as np\n",
    "from PIL import Image"
   ]
  },
  {
   "cell_type": "code",
   "execution_count": 2,
   "id": "57d880e3",
   "metadata": {},
   "outputs": [],
   "source": [
    "BASE_PATH = \"/home/varad/6422-DB-implementation/eva/eva/tutorials/blob-storage\"\n",
    "NPY_STORE_NAME = \"video-blob.npy\"\n",
    "VIDEO_SRC = \"/home/varad/6422-DB-implementation/eva/video/eva-video.mp4\"\n",
    "\n",
    "NPY_STORE = BASE_PATH + \"/\" + NPY_STORE_NAME"
   ]
  },
  {
   "cell_type": "code",
   "execution_count": 3,
   "id": "34bdecbb",
   "metadata": {},
   "outputs": [],
   "source": [
    "if not os.path.exists(os.path.dirname(NPY_STORE)):\n",
    "    try:\n",
    "        os.makedirs(os.path.dirname(NPY_STORE))\n",
    "    except OSError as exc:\n",
    "        # Guard against race condition\n",
    "        if exc.errno != errno.EEXIST:\n",
    "            raise"
   ]
  },
  {
   "cell_type": "code",
   "execution_count": 4,
   "id": "067663b8",
   "metadata": {},
   "outputs": [],
   "source": [
    "cap = cv2.VideoCapture(VIDEO_SRC)\n",
    "frameCount = int(cap.get(cv2.CAP_PROP_FRAME_COUNT))\n",
    "frameWidth = int(cap.get(cv2.CAP_PROP_FRAME_WIDTH))\n",
    "frameHeight = int(cap.get(cv2.CAP_PROP_FRAME_HEIGHT))"
   ]
  },
  {
   "cell_type": "code",
   "execution_count": 5,
   "id": "a2c00b82",
   "metadata": {},
   "outputs": [],
   "source": [
    "buf = np.empty((frameCount, frameHeight, frameWidth, 3), np.dtype('uint8'))"
   ]
  },
  {
   "cell_type": "code",
   "execution_count": 6,
   "id": "9057b139",
   "metadata": {},
   "outputs": [],
   "source": [
    "# Manual append yeilds problematic results, np.save stores metadata for better retrieval mechanism.\n",
    "# Should go with the recommended way to avoid compatibility issues further down the line\n",
    "fc = 0\n",
    "ret = True\n",
    "\n",
    "while (fc < frameCount  and ret):\n",
    "    ret, buf[fc] = cap.read()\n",
    "    fc += 1\n",
    "\n",
    "cap.release()"
   ]
  },
  {
   "cell_type": "code",
   "execution_count": 7,
   "id": "4293ce95",
   "metadata": {},
   "outputs": [],
   "source": [
    "# this is time consuming, can be optimized with memmap??\n",
    "# np memmaps for write are tricky: https://stackoverflow.com/questions/16149803/working-with-big-data-in-python-and-numpy-not-enough-ram-how-to-save-partial-r\n",
    "with open(NPY_STORE, 'wb') as blobStore:\n",
    "    np.save(blobStore, buf)\n",
    "\n",
    "blobStore.close()"
   ]
  },
  {
   "cell_type": "code",
   "execution_count": 8,
   "id": "191f1b78",
   "metadata": {},
   "outputs": [],
   "source": [
    "def get_nth_frame(n):\n",
    "    img = np.memmap(NPY_STORE, dtype='uint8', mode='r+', shape=(frameHeight, frameWidth, 3), offset=n * frameHeight * frameWidth * 3)\n",
    "    return img"
   ]
  },
  {
   "cell_type": "code",
   "execution_count": 9,
   "id": "09501e1f",
   "metadata": {},
   "outputs": [],
   "source": [
    "def get_range_of_frames(start_range, end_range):\n",
    "    img_range = np.memmap(NPY_STORE, dtype='uint8', mode='r+', shape=(end_range - start_range + 1, frameHeight, frameWidth, 3), offset= start_range * frameHeight * frameWidth * 3)\n",
    "    return img_range"
   ]
  },
  {
   "cell_type": "code",
   "execution_count": 10,
   "id": "65a552f8",
   "metadata": {},
   "outputs": [],
   "source": [
    "def show_np_array_img(img):\n",
    "    img = cv2.cvtColor(img[...,::-1].copy(), cv2.COLOR_BGR2RGB)\n",
    "    img = Image.fromarray(img, 'RGB')\n",
    "    img.show()"
   ]
  },
  {
   "cell_type": "code",
   "execution_count": 13,
   "id": "9f3ecf6a",
   "metadata": {},
   "outputs": [],
   "source": [
    "# Tests on a 15 second countdown video (500 * 1920 * 1020 * 3)\n",
    "# img = get_nth_frame(120)\n",
    "# show_np_array_img(img)\n",
    "# Should show number 16 for n = 120\n",
    "\n",
    "# img_range = get_range_of_frames(120, 125)\n",
    "# for img in img_range:\n",
    "#     show_np_array_img(img)\n",
    "# Comment out to check if the number changes from 16 to 15 for start_range = 120 and end_range = 125"
   ]
  }
 ],
 "metadata": {
  "kernelspec": {
   "display_name": "Python 3",
   "language": "python",
   "name": "python3"
  },
  "language_info": {
   "codemirror_mode": {
    "name": "ipython",
    "version": 3
   },
   "file_extension": ".py",
   "mimetype": "text/x-python",
   "name": "python",
   "nbconvert_exporter": "python",
   "pygments_lexer": "ipython3",
   "version": "3.6.13"
  }
 },
 "nbformat": 4,
 "nbformat_minor": 5
}
