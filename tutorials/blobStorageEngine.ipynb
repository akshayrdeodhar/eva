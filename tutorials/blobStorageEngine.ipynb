{
 "cells": [
  {
   "cell_type": "code",
   "execution_count": 1,
   "id": "2801e348",
   "metadata": {},
   "outputs": [],
   "source": [
    "import os\n",
    "import cv2\n",
    "import numpy as np\n",
    "from PIL import Image\n",
    "import sys\n",
    "import random\n",
    "import zlib"
   ]
  },
  {
   "cell_type": "code",
   "execution_count": 2,
   "id": "57d880e3",
   "metadata": {},
   "outputs": [],
   "source": [
    "BASE_PATH = \"/home/varad/6422-DB-implementation/eva/eva/tutorials/blob-storage\"\n",
    "NPY_STORE_NAME = \"video-blob.npy\"\n",
    "VIDEO_NUM = \"14\"\n",
    "# ZLIB_COMPRESS_RATIO = 6\n",
    "VIDEO_SRC = \"/home/varad/6422-DB-implementation/eva/video/\" + VIDEO_NUM + \".mp4\"\n",
    "\n",
    "NPY_STORE = BASE_PATH + \"/\" + NPY_STORE_NAME"
   ]
  },
  {
   "cell_type": "code",
   "execution_count": 3,
   "id": "d272015c",
   "metadata": {},
   "outputs": [],
   "source": [
    "# frame_offsets = {} # frame number: (offset, size)"
   ]
  },
  {
   "cell_type": "code",
   "execution_count": 4,
   "id": "34bdecbb",
   "metadata": {},
   "outputs": [],
   "source": [
    "if not os.path.exists(os.path.dirname(NPY_STORE)):\n",
    "    try:\n",
    "        os.makedirs(os.path.dirname(NPY_STORE))\n",
    "    except OSError as exc:\n",
    "        # Guard against race condition\n",
    "        if exc.errno != errno.EEXIST:\n",
    "            raise"
   ]
  },
  {
   "cell_type": "code",
   "execution_count": 5,
   "id": "067663b8",
   "metadata": {},
   "outputs": [],
   "source": [
    "cap = cv2.VideoCapture(VIDEO_SRC)\n",
    "frameCount = int(cap.get(cv2.CAP_PROP_FRAME_COUNT))\n",
    "frameWidth = int(cap.get(cv2.CAP_PROP_FRAME_WIDTH))\n",
    "frameHeight = int(cap.get(cv2.CAP_PROP_FRAME_HEIGHT))"
   ]
  },
  {
   "cell_type": "code",
   "execution_count": 6,
   "id": "a2c00b82",
   "metadata": {},
   "outputs": [
    {
     "name": "stdout",
     "output_type": "stream",
     "text": [
      "CPU times: user 208 µs, sys: 168 µs, total: 376 µs\n",
      "Wall time: 382 µs\n"
     ]
    },
    {
     "data": {
      "text/plain": [
       "2631398544"
      ]
     },
     "execution_count": 6,
     "metadata": {},
     "output_type": "execute_result"
    }
   ],
   "source": [
    "%%time\n",
    "buf = np.empty((frameCount, frameHeight, frameWidth, 3), np.dtype('uint8'))\n",
    "sys.getsizeof(buf)"
   ]
  },
  {
   "cell_type": "code",
   "execution_count": 7,
   "id": "acd564cd",
   "metadata": {},
   "outputs": [],
   "source": [
    "# %%time\n",
    "# mem_buf = np.empty((frameHeight, frameWidth, 3), np.dtype('uint8'))\n",
    "# fc = 0\n",
    "# ret = True\n",
    "# offset = 0\n",
    "\n",
    "# with open(NPY_STORE, 'ab') as fd:\n",
    "#     while (fc < frameCount and ret):\n",
    "#         ret, mem_buf = cap.read()\n",
    "        \n",
    "#         compressed_data = zlib.compress(mem_buf, ZLIB_COMPRESS_RATIO)\n",
    "#         frame_offsets[fc] = (offset, sys.getsizeof(compressed_data))\n",
    "        \n",
    "#         offset += sys.getsizeof(compressed_data)\n",
    "#         fd.write(compressed_data)\n",
    "#         fc += 1\n",
    "# cap.release()"
   ]
  },
  {
   "cell_type": "code",
   "execution_count": 8,
   "id": "9057b139",
   "metadata": {},
   "outputs": [
    {
     "name": "stdout",
     "output_type": "stream",
     "text": [
      "CPU times: user 13 s, sys: 12.3 s, total: 25.4 s\n",
      "Wall time: 24.9 s\n"
     ]
    }
   ],
   "source": [
    "%%time\n",
    "# # Manual append yeilds problematic results, np.save stores metadata for better retrieval mechanism.\n",
    "# # Should go with the recommended way to avoid compatibility issues further down the line\n",
    "fc = 0\n",
    "ret = True\n",
    "\n",
    "while (fc < frameCount  and ret):\n",
    "    ret, buf[fc] = cap.read()\n",
    "    fc += 1\n",
    "\n",
    "cap.release()\n",
    "\n",
    "# # this is time consuming, can be optimized with memmap??\n",
    "# # np memmaps for write are tricky: https://stackoverflow.com/questions/16149803/working-with-big-data-in-python-and-numpy-not-enough-ram-how-to-save-partial-r\n",
    "with open(NPY_STORE, 'wb') as blobStore:\n",
    "    np.save(blobStore, buf)"
   ]
  },
  {
   "cell_type": "code",
   "execution_count": 9,
   "id": "51ee6221",
   "metadata": {},
   "outputs": [],
   "source": [
    "# %%time\n",
    "\n",
    "# import zlib\n",
    "# compressed_data = zlib.compress(buf, ZLIB_COMPRESS_RATIO)\n",
    "\n",
    "# f = open(\"/home/varad/6422-DB-implementation/eva/eva/tutorials/blob-storage/\" + VIDEO_NUM, 'wb')\n",
    "# f.write(compressed_data)\n",
    "# f.close()"
   ]
  },
  {
   "cell_type": "code",
   "execution_count": 10,
   "id": "191f1b78",
   "metadata": {},
   "outputs": [],
   "source": [
    "def get_nth_frame(n):\n",
    "    img = np.memmap(NPY_STORE, dtype='uint8', mode='r+', shape=(frameHeight, frameWidth, 3), offset=n * frameHeight * frameWidth * 3)\n",
    "    return img"
   ]
  },
  {
   "cell_type": "code",
   "execution_count": 11,
   "id": "09501e1f",
   "metadata": {},
   "outputs": [],
   "source": [
    "def get_range_of_frames(start_range, end_range):\n",
    "    img_range = np.memmap(NPY_STORE, dtype='uint8', mode='r+', shape=(end_range - start_range + 1, frameHeight, frameWidth, 3), offset= start_range * frameHeight * frameWidth * 3)\n",
    "    return img_range"
   ]
  },
  {
   "cell_type": "code",
   "execution_count": 12,
   "id": "65a552f8",
   "metadata": {},
   "outputs": [],
   "source": [
    "def show_np_array_img(img):\n",
    "    img = cv2.cvtColor(img[...,::-1].copy(), cv2.COLOR_BGR2RGB)\n",
    "    img = Image.fromarray(img, 'RGB')\n",
    "    img.show()"
   ]
  },
  {
   "cell_type": "code",
   "execution_count": 13,
   "id": "9f3ecf6a",
   "metadata": {},
   "outputs": [],
   "source": [
    "# %%time\n",
    "# Tests on a 16 second countdown video (500 * 1920 * 1020 * 3)\n",
    "rand_frame = random.randint(0, frameCount)\n",
    "img = get_nth_frame(rand_frame)\n",
    "# show_np_array_img(img)\n",
    "# Should show number 16 for n = 120\n",
    "\n",
    "# FRAME_NO = 0\n",
    "# with open(NPY_STORE, 'rb') as fd:\n",
    "#     print(frame_offsets[FRAME_NO])\n",
    "#     fd.seek(frame_offsets[FRAME_NO][0], 0)\n",
    "#     compressed_img = fd.read(frame_offsets[FRAME_NO][1])\n",
    "#     decompressed_img = zlib.decompress(compressed_img)\n",
    "\n",
    "# # print(frame_offsets)\n",
    "# nonshaped_img = np.frombuffer(decompressed_img)\n",
    "# print(nonshaped_img.size)"
   ]
  },
  {
   "cell_type": "code",
   "execution_count": 14,
   "id": "1dd744ac",
   "metadata": {},
   "outputs": [
    {
     "name": "stdout",
     "output_type": "stream",
     "text": [
      "CPU times: user 1.44 ms, sys: 1.34 ms, total: 2.78 ms\n",
      "Wall time: 2.38 ms\n"
     ]
    }
   ],
   "source": [
    "%%time\n",
    "rand_frame_start = random.randint(0, frameCount - 10)\n",
    "rand_frame_end = rand_frame_start + 10\n",
    "img_range = get_range_of_frames(rand_frame_start, rand_frame_end)\n",
    "# for img in img_range:\n",
    "#     show_np_array_img(img)\n",
    "# Comment out to check if the number changes from 16 to 15 for start_range = 120 and end_range = 125"
   ]
  },
  {
   "cell_type": "code",
   "execution_count": 15,
   "id": "f6976f06",
   "metadata": {},
   "outputs": [
    {
     "name": "stdout",
     "output_type": "stream",
     "text": [
      "CPU times: user 522 ms, sys: 2.28 s, total: 2.8 s\n",
      "Wall time: 22.4 s\n"
     ]
    }
   ],
   "source": [
    "%%time\n",
    "_ = np.load(NPY_STORE)"
   ]
  }
 ],
 "metadata": {
  "kernelspec": {
   "display_name": "Python 3 (ipykernel)",
   "language": "python",
   "name": "python3"
  },
  "language_info": {
   "codemirror_mode": {
    "name": "ipython",
    "version": 3
   },
   "file_extension": ".py",
   "mimetype": "text/x-python",
   "name": "python",
   "nbconvert_exporter": "python",
   "pygments_lexer": "ipython3",
   "version": "3.9.5"
  }
 },
 "nbformat": 4,
 "nbformat_minor": 5
}
