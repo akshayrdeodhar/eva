{
 "cells": [
  {
   "cell_type": "code",
   "execution_count": 1,
   "id": "2801e348",
   "metadata": {},
   "outputs": [],
   "source": [
    "import os\n",
    "import cv2\n",
    "import numpy as np\n",
    "from PIL import Image\n",
    "import sys\n",
    "import random\n",
    "import zlib"
   ]
  },
  {
   "cell_type": "code",
   "execution_count": 2,
   "id": "57d880e3",
   "metadata": {},
   "outputs": [],
   "source": [
    "BASE_PATH = \"/home/varad/6422-DB-implementation/eva/eva/tutorials/blob-storage\"\n",
    "NPY_STORE_NAME = \"video-blob.npy\"\n",
    "VIDEO_NUM = \"12\"\n",
    "# ZLIB_COMPRESS_RATIO = 6\n",
    "VIDEO_SRC = \"/home/varad/6422-DB-implementation/eva/video/\" + VIDEO_NUM + \".mp4\"\n",
    "\n",
    "NPY_STORE = BASE_PATH + \"/\" + NPY_STORE_NAME"
   ]
  },
  {
   "cell_type": "code",
   "execution_count": 3,
   "id": "d272015c",
   "metadata": {},
   "outputs": [],
   "source": [
    "# frame_offsets = {} # frame number: (offset, size)"
   ]
  },
  {
   "cell_type": "code",
   "execution_count": 4,
   "id": "34bdecbb",
   "metadata": {},
   "outputs": [],
   "source": [
    "if not os.path.exists(os.path.dirname(NPY_STORE)):\n",
    "    try:\n",
    "        os.makedirs(os.path.dirname(NPY_STORE))\n",
    "    except OSError as exc:\n",
    "        # Guard against race condition\n",
    "        if exc.errno != errno.EEXIST:\n",
    "            raise"
   ]
  },
  {
   "cell_type": "code",
   "execution_count": 5,
   "id": "067663b8",
   "metadata": {},
   "outputs": [],
   "source": [
    "cap = cv2.VideoCapture(VIDEO_SRC)\n",
    "frameCount = int(cap.get(cv2.CAP_PROP_FRAME_COUNT))\n",
    "frameWidth = int(cap.get(cv2.CAP_PROP_FRAME_WIDTH))\n",
    "frameHeight = int(cap.get(cv2.CAP_PROP_FRAME_HEIGHT))"
   ]
  },
  {
   "cell_type": "code",
   "execution_count": 6,
   "id": "a2c00b82",
   "metadata": {},
   "outputs": [
    {
     "name": "stdout",
     "output_type": "stream",
     "text": [
      "CPU times: user 59 µs, sys: 20 µs, total: 79 µs\n",
      "Wall time: 82.7 µs\n"
     ]
    },
    {
     "data": {
      "text/plain": [
       "2307916944"
      ]
     },
     "execution_count": 6,
     "metadata": {},
     "output_type": "execute_result"
    }
   ],
   "source": [
    "%%time\n",
    "buf = np.empty((frameCount, frameHeight, frameWidth, 3), np.dtype('uint8'))\n",
    "sys.getsizeof(buf)"
   ]
  },
  {
   "cell_type": "code",
   "execution_count": 7,
   "id": "acd564cd",
   "metadata": {},
   "outputs": [],
   "source": [
    "# %%time\n",
    "# mem_buf = np.empty((frameHeight, frameWidth, 3), np.dtype('uint8'))\n",
    "# fc = 0\n",
    "# ret = True\n",
    "# offset = 0\n",
    "\n",
    "# with open(NPY_STORE, 'ab') as fd:\n",
    "#     while (fc < frameCount and ret):\n",
    "#         ret, mem_buf = cap.read()\n",
    "        \n",
    "#         compressed_data = zlib.compress(mem_buf, ZLIB_COMPRESS_RATIO)\n",
    "#         frame_offsets[fc] = (offset, sys.getsizeof(compressed_data))\n",
    "        \n",
    "#         offset += sys.getsizeof(compressed_data)\n",
    "#         fd.write(compressed_data)\n",
    "#         fc += 1\n",
    "# cap.release()"
   ]
  },
  {
   "cell_type": "code",
   "execution_count": 8,
   "id": "9057b139",
   "metadata": {},
   "outputs": [
    {
     "name": "stdout",
     "output_type": "stream",
     "text": [
      "CPU times: user 5.48 s, sys: 2.58 s, total: 8.06 s\n",
      "Wall time: 10.1 s\n"
     ]
    }
   ],
   "source": [
    "%%time\n",
    "# # Manual append yeilds problematic results, np.save stores metadata for better retrieval mechanism.\n",
    "# # Should go with the recommended way to avoid compatibility issues further down the line\n",
    "fc = 0\n",
    "ret = True\n",
    "\n",
    "while (fc < frameCount  and ret):\n",
    "    ret, buf[fc] = cap.read()\n",
    "    fc += 1\n",
    "\n",
    "cap.release()\n",
    "\n",
    "# # this is time consuming, can be optimized with memmap??\n",
    "# # np memmaps for write are tricky: https://stackoverflow.com/questions/16149803/working-with-big-data-in-python-and-numpy-not-enough-ram-how-to-save-partial-r\n",
    "with open(NPY_STORE, 'wb') as blobStore:\n",
    "    np.save(blobStore, buf)"
   ]
  },
  {
   "cell_type": "code",
   "execution_count": 9,
   "id": "51ee6221",
   "metadata": {},
   "outputs": [],
   "source": [
    "# %%time\n",
    "\n",
    "# import zlib\n",
    "# compressed_data = zlib.compress(buf, ZLIB_COMPRESS_RATIO)\n",
    "\n",
    "# f = open(\"/home/varad/6422-DB-implementation/eva/eva/tutorials/blob-storage/\" + VIDEO_NUM, 'wb')\n",
    "# f.write(compressed_data)\n",
    "# f.close()"
   ]
  },
  {
   "cell_type": "code",
   "execution_count": 10,
   "id": "191f1b78",
   "metadata": {},
   "outputs": [],
   "source": [
    "def get_nth_frame(n):\n",
    "    img = np.memmap(NPY_STORE, dtype='uint8', mode='r+', shape=(frameHeight, frameWidth, 3), offset=n * frameHeight * frameWidth * 3)\n",
    "    return img"
   ]
  },
  {
   "cell_type": "code",
   "execution_count": 11,
   "id": "09501e1f",
   "metadata": {},
   "outputs": [],
   "source": [
    "def get_range_of_frames(start_range, end_range):\n",
    "    img_range = np.memmap(NPY_STORE, dtype='uint8', mode='r+', shape=(end_range - start_range + 1, frameHeight, frameWidth, 3), offset= start_range * frameHeight * frameWidth * 3)\n",
    "    return img_range"
   ]
  },
  {
   "cell_type": "code",
   "execution_count": 12,
   "id": "65a552f8",
   "metadata": {},
   "outputs": [],
   "source": [
    "def show_np_array_img(img):\n",
    "    img = cv2.cvtColor(img[...,::-1].copy(), cv2.COLOR_BGR2RGB)\n",
    "    img = Image.fromarray(img, 'RGB')\n",
    "    img.show()"
   ]
  },
  {
   "cell_type": "code",
   "execution_count": 13,
   "id": "9f3ecf6a",
   "metadata": {},
   "outputs": [],
   "source": [
    "# %%time\n",
    "# Tests on a 16 second countdown video (500 * 1920 * 1020 * 3)\n",
    "rand_frame = random.randint(0, frameCount)\n",
    "img = get_nth_frame(rand_frame)\n",
    "# show_np_array_img(img)\n",
    "# Should show number 16 for n = 120\n",
    "\n",
    "# FRAME_NO = 0\n",
    "# with open(NPY_STORE, 'rb') as fd:\n",
    "#     print(frame_offsets[FRAME_NO])\n",
    "#     fd.seek(frame_offsets[FRAME_NO][0], 0)\n",
    "#     compressed_img = fd.read(frame_offsets[FRAME_NO][1])\n",
    "#     decompressed_img = zlib.decompress(compressed_img)\n",
    "\n",
    "# # print(frame_offsets)\n",
    "# nonshaped_img = np.frombuffer(decompressed_img)\n",
    "# print(nonshaped_img.size)"
   ]
  },
  {
   "cell_type": "code",
   "execution_count": 14,
   "id": "1dd744ac",
   "metadata": {},
   "outputs": [
    {
     "name": "stdout",
     "output_type": "stream",
     "text": [
      "CPU times: user 531 µs, sys: 244 µs, total: 775 µs\n",
      "Wall time: 1.62 ms\n"
     ]
    }
   ],
   "source": [
    "%%time\n",
    "rand_frame_start = random.randint(0, frameCount - 10)\n",
    "rand_frame_end = rand_frame_start + 10\n",
    "img_range = get_range_of_frames(rand_frame_start, rand_frame_end)\n",
    "# for img in img_range:\n",
    "#     show_np_array_img(img)\n",
    "# Comment out to check if the number changes from 16 to 15 for start_range = 120 and end_range = 125"
   ]
  },
  {
   "cell_type": "code",
   "execution_count": 15,
   "id": "e9f20a17",
   "metadata": {},
   "outputs": [
    {
     "name": "stdout",
     "output_type": "stream",
     "text": [
      "CPU times: user 767 µs, sys: 353 µs, total: 1.12 ms\n",
      "Wall time: 2.31 ms\n"
     ]
    }
   ],
   "source": [
    "%%time\n",
    "\n",
    "rand_frame_start = random.randint(0, frameCount - 20)\n",
    "rand_frame_end = rand_frame_start + 20\n",
    "img_range = get_range_of_frames(rand_frame_start, rand_frame_end)"
   ]
  },
  {
   "cell_type": "code",
   "execution_count": 16,
   "id": "bbfc2560",
   "metadata": {},
   "outputs": [
    {
     "name": "stdout",
     "output_type": "stream",
     "text": [
      "CPU times: user 0 ns, sys: 1.04 ms, total: 1.04 ms\n",
      "Wall time: 2.38 ms\n"
     ]
    }
   ],
   "source": [
    "%%time\n",
    "\n",
    "rand_frame_start = random.randint(0, frameCount - 30)\n",
    "rand_frame_end = rand_frame_start + 30\n",
    "img_range = get_range_of_frames(rand_frame_start, rand_frame_end)"
   ]
  },
  {
   "cell_type": "code",
   "execution_count": 17,
   "id": "f9b0334c",
   "metadata": {},
   "outputs": [
    {
     "name": "stdout",
     "output_type": "stream",
     "text": [
      "CPU times: user 635 µs, sys: 293 µs, total: 928 µs\n",
      "Wall time: 2.03 ms\n"
     ]
    }
   ],
   "source": [
    "%%time\n",
    "\n",
    "rand_frame_start = random.randint(0, frameCount - 40)\n",
    "rand_frame_end = rand_frame_start + 40\n",
    "img_range = get_range_of_frames(rand_frame_start, rand_frame_end)"
   ]
  },
  {
   "cell_type": "code",
   "execution_count": 18,
   "id": "a3e19ee6",
   "metadata": {},
   "outputs": [
    {
     "name": "stdout",
     "output_type": "stream",
     "text": [
      "CPU times: user 0 ns, sys: 934 µs, total: 934 µs\n",
      "Wall time: 2.43 ms\n"
     ]
    }
   ],
   "source": [
    "%%time\n",
    "\n",
    "rand_frame_start = random.randint(0, frameCount - 50)\n",
    "rand_frame_end = rand_frame_start + 50\n",
    "img_range = get_range_of_frames(rand_frame_start, rand_frame_end)"
   ]
  },
  {
   "cell_type": "code",
   "execution_count": 19,
   "id": "c353e67a",
   "metadata": {},
   "outputs": [
    {
     "name": "stdout",
     "output_type": "stream",
     "text": [
      "CPU times: user 687 µs, sys: 319 µs, total: 1.01 ms\n",
      "Wall time: 2.4 ms\n"
     ]
    }
   ],
   "source": [
    "%%time\n",
    "\n",
    "rand_frame_start = random.randint(0, frameCount - 60)\n",
    "rand_frame_end = rand_frame_start + 60\n",
    "img_range = get_range_of_frames(rand_frame_start, rand_frame_end)"
   ]
  },
  {
   "cell_type": "code",
   "execution_count": 20,
   "id": "aa6d6681",
   "metadata": {},
   "outputs": [
    {
     "name": "stdout",
     "output_type": "stream",
     "text": [
      "CPU times: user 0 ns, sys: 779 µs, total: 779 µs\n",
      "Wall time: 2.07 ms\n"
     ]
    }
   ],
   "source": [
    "%%time\n",
    "\n",
    "rand_frame_start = random.randint(0, frameCount - 90)\n",
    "rand_frame_end = rand_frame_start + 90\n",
    "img_range = get_range_of_frames(rand_frame_start, rand_frame_end)"
   ]
  },
  {
   "cell_type": "code",
   "execution_count": 21,
   "id": "9e7c8ab1",
   "metadata": {},
   "outputs": [
    {
     "name": "stdout",
     "output_type": "stream",
     "text": [
      "CPU times: user 0 ns, sys: 1.07 ms, total: 1.07 ms\n",
      "Wall time: 1.94 ms\n"
     ]
    }
   ],
   "source": [
    "%%time\n",
    "\n",
    "rand_frame_start = random.randint(0, frameCount - 120)\n",
    "rand_frame_end = rand_frame_start + 120\n",
    "img_range = get_range_of_frames(rand_frame_start, rand_frame_end)"
   ]
  },
  {
   "cell_type": "code",
   "execution_count": 22,
   "id": "b1b48fd5",
   "metadata": {},
   "outputs": [
    {
     "name": "stdout",
     "output_type": "stream",
     "text": [
      "CPU times: user 0 ns, sys: 664 µs, total: 664 µs\n",
      "Wall time: 1.66 ms\n"
     ]
    }
   ],
   "source": [
    "%%time\n",
    "\n",
    "rand_frame_start = random.randint(0, frameCount - 150)\n",
    "rand_frame_end = rand_frame_start + 150\n",
    "img_range = get_range_of_frames(rand_frame_start, rand_frame_end)"
   ]
  },
  {
   "cell_type": "code",
   "execution_count": 23,
   "id": "99403974",
   "metadata": {},
   "outputs": [
    {
     "name": "stdout",
     "output_type": "stream",
     "text": [
      "CPU times: user 659 µs, sys: 250 µs, total: 909 µs\n",
      "Wall time: 2.15 ms\n"
     ]
    }
   ],
   "source": [
    "%%time\n",
    "\n",
    "rand_frame_start = random.randint(0, frameCount - 200)\n",
    "rand_frame_end = rand_frame_start + 200\n",
    "img_range = get_range_of_frames(rand_frame_start, rand_frame_end)"
   ]
  },
  {
   "cell_type": "code",
   "execution_count": 24,
   "id": "f6976f06",
   "metadata": {},
   "outputs": [],
   "source": [
    "# %%time\n",
    "# _ = np.load(NPY_STORE)"
   ]
  }
 ],
 "metadata": {
  "kernelspec": {
   "display_name": "Python 3 (ipykernel)",
   "language": "python",
   "name": "python3"
  },
  "language_info": {
   "codemirror_mode": {
    "name": "ipython",
    "version": 3
   },
   "file_extension": ".py",
   "mimetype": "text/x-python",
   "name": "python",
   "nbconvert_exporter": "python",
   "pygments_lexer": "ipython3",
   "version": "3.9.5"
  }
 },
 "nbformat": 4,
 "nbformat_minor": 5
}
