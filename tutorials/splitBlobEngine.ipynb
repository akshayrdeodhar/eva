{
 "cells": [
  {
   "cell_type": "code",
   "execution_count": 1,
   "id": "eb904d5b",
   "metadata": {},
   "outputs": [],
   "source": [
    "import cv2\n",
    "import sys\n",
    "import os\n",
    "import numpy as np\n",
    "from PIL import Image"
   ]
  },
  {
   "cell_type": "code",
   "execution_count": 2,
   "id": "466fcb12",
   "metadata": {},
   "outputs": [],
   "source": [
    "STORE_DIR = \"/home/varad/6422-DB-implementation/eva/eva/tutorials/blob-storage/frames/\"\n",
    "VIDEO_NUM = \"14\"\n",
    "VIDEO_SRC = \"/home/varad/6422-DB-implementation/eva/video/\" + VIDEO_NUM + \".mp4\""
   ]
  },
  {
   "cell_type": "code",
   "execution_count": 3,
   "id": "3120a11d",
   "metadata": {},
   "outputs": [],
   "source": [
    "if not os.path.exists(os.path.dirname(STORE_DIR)):\n",
    "    try:\n",
    "        os.makedirs(os.path.dirname(STORE_DIR))\n",
    "    except OSError as exc:\n",
    "        # Guard against race condition\n",
    "        if exc.errno != errno.EEXIST:\n",
    "            raise"
   ]
  },
  {
   "cell_type": "code",
   "execution_count": 4,
   "id": "a24923c7",
   "metadata": {},
   "outputs": [],
   "source": [
    "cap = cv2.VideoCapture(VIDEO_SRC)\n",
    "\n",
    "frameCount = int(cap.get(cv2.CAP_PROP_FRAME_COUNT))\n",
    "frameWidth = int(cap.get(cv2.CAP_PROP_FRAME_WIDTH))\n",
    "frameHeight = int(cap.get(cv2.CAP_PROP_FRAME_HEIGHT))\n"
   ]
  },
  {
   "cell_type": "code",
   "execution_count": 5,
   "id": "2d1fcd31",
   "metadata": {},
   "outputs": [
    {
     "name": "stdout",
     "output_type": "stream",
     "text": [
      "CPU times: user 27.8 s, sys: 2.06 s, total: 29.8 s\n",
      "Wall time: 53.2 s\n"
     ]
    }
   ],
   "source": [
    "%%time\n",
    "\n",
    "fc = 0\n",
    "ret = True\n",
    "\n",
    "while (fc < frameCount and ret):\n",
    "    ret, image = cap.read()\n",
    "    cv2.imwrite(STORE_DIR + \"frame-%d.jpg\" % fc, image)\n",
    "    fc += 1"
   ]
  },
  {
   "cell_type": "code",
   "execution_count": 6,
   "id": "88b8f96d",
   "metadata": {},
   "outputs": [],
   "source": [
    "def get_nth_frame(n):\n",
    "    img = Image.open(STORE_DIR + \"frame-%d.jpg\" % n)\n",
    "    np_img = np.asarray(img)\n",
    "    return np_img"
   ]
  },
  {
   "cell_type": "code",
   "execution_count": 7,
   "id": "0ef2f511",
   "metadata": {},
   "outputs": [],
   "source": [
    "def get_range_of_frames(start_range, end_range):\n",
    "    images = []\n",
    "    \n",
    "    for frame_no in range(start_range, end_range + 1):\n",
    "        img = Image.open(STORE_DIR + \"frame-%d.jpg\" % frame_no)\n",
    "        images.append(np.asarray(img))\n",
    "    \n",
    "    return images"
   ]
  },
  {
   "cell_type": "code",
   "execution_count": 8,
   "id": "5ed77431",
   "metadata": {},
   "outputs": [],
   "source": [
    "def show_np_array_img(img):\n",
    "    img = cv2.cvtColor(img[...,::-1].copy(), cv2.COLOR_BGR2RGB)\n",
    "    img = Image.fromarray(img, 'RGB')\n",
    "    img.show()"
   ]
  },
  {
   "cell_type": "code",
   "execution_count": 16,
   "id": "b6c242ae",
   "metadata": {},
   "outputs": [
    {
     "name": "stdout",
     "output_type": "stream",
     "text": [
      "CPU times: user 91.9 ms, sys: 24.2 ms, total: 116 ms\n",
      "Wall time: 134 ms\n"
     ]
    }
   ],
   "source": [
    "%%time\n",
    "import random\n",
    "rand_frame = random.randint(0, frameCount)\n",
    "img = get_nth_frame(rand_frame)\n",
    "# show_np_array_img(img)"
   ]
  },
  {
   "cell_type": "code",
   "execution_count": 12,
   "id": "69a059dd",
   "metadata": {},
   "outputs": [
    {
     "name": "stdout",
     "output_type": "stream",
     "text": [
      "CPU times: user 781 ms, sys: 2.54 s, total: 3.32 s\n",
      "Wall time: 3.92 s\n"
     ]
    }
   ],
   "source": [
    "%%time\n",
    "rand_frame_start = random.randint(0, frameCount - 10)\n",
    "rand_frame_end = rand_frame_start + 10\n",
    "\n",
    "img_range = get_range_of_frames(rand_frame_start, rand_frame_end)\n",
    "\n",
    "# for img in img_range:\n",
    "#     show_np_array_img(img)"
   ]
  },
  {
   "cell_type": "code",
   "execution_count": null,
   "id": "35a180e7",
   "metadata": {},
   "outputs": [],
   "source": []
  }
 ],
 "metadata": {
  "kernelspec": {
   "display_name": "Python 3",
   "language": "python",
   "name": "python3"
  },
  "language_info": {
   "codemirror_mode": {
    "name": "ipython",
    "version": 3
   },
   "file_extension": ".py",
   "mimetype": "text/x-python",
   "name": "python",
   "nbconvert_exporter": "python",
   "pygments_lexer": "ipython3",
   "version": "3.6.13"
  }
 },
 "nbformat": 4,
 "nbformat_minor": 5
}
